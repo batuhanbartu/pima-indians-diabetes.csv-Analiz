{
 "cells": [
  {
   "cell_type": "markdown",
   "id": "24af6dc1",
   "metadata": {},
   "source": [
    "BATUHAN BARTU - 21040101027 - MAKİNE ÖĞRENMESİ- ÖĞRETİM GÖREVLİSİ: GÖKALP TULUM - BİLGİSAYAR MÜHENDİSLİĞİ - MÜHENDİSLİK FAKÜLTESİ - TOPKAPI ÜNİVERSİTESİ"
   ]
  },
  {
   "cell_type": "code",
   "execution_count": 7,
   "id": "e18bff0a",
   "metadata": {},
   "outputs": [
    {
     "data": {
      "text/plain": [
       "(   Pregnancies  Glucose  BloodPressure  SkinThickness  Insulin   BMI  \\\n",
       " 0            6      148             72             35        0  33.6   \n",
       " 1            1       85             66             29        0  26.6   \n",
       " 2            8      183             64              0        0  23.3   \n",
       " 3            1       89             66             23       94  28.1   \n",
       " 4            0      137             40             35      168  43.1   \n",
       " \n",
       "    DiabetespedigreeFunction  Age  Outcome  \n",
       " 0                     0.627   50        1  \n",
       " 1                     0.351   31        0  \n",
       " 2                     0.672   32        1  \n",
       " 3                     0.167   21        0  \n",
       " 4                     2.288   33        1  ,\n",
       "        Pregnancies     Glucose  BloodPressure  SkinThickness     Insulin  \\\n",
       " count   768.000000  768.000000     768.000000     768.000000  768.000000   \n",
       " mean      3.845052  120.894531      69.105469      20.536458   79.799479   \n",
       " std       3.369578   31.972618      19.355807      15.952218  115.244002   \n",
       " min       0.000000    0.000000       0.000000       0.000000    0.000000   \n",
       " 25%       1.000000   99.000000      62.000000       0.000000    0.000000   \n",
       " 50%       3.000000  117.000000      72.000000      23.000000   30.500000   \n",
       " 75%       6.000000  140.250000      80.000000      32.000000  127.250000   \n",
       " max      17.000000  199.000000     122.000000      99.000000  846.000000   \n",
       " \n",
       "               BMI  DiabetespedigreeFunction         Age     Outcome  \n",
       " count  768.000000                768.000000  768.000000  768.000000  \n",
       " mean    31.992578                  0.471876   33.240885    0.348958  \n",
       " std      7.884160                  0.331329   11.760232    0.476951  \n",
       " min      0.000000                  0.078000   21.000000    0.000000  \n",
       " 25%     27.300000                  0.243750   24.000000    0.000000  \n",
       " 50%     32.000000                  0.372500   29.000000    0.000000  \n",
       " 75%     36.600000                  0.626250   41.000000    1.000000  \n",
       " max     67.100000                  2.420000   81.000000    1.000000  )"
      ]
     },
     "execution_count": 7,
     "metadata": {},
     "output_type": "execute_result"
    }
   ],
   "source": [
    "import pandas as pd\n",
    "from sklearn.preprocessing import StandardScaler\n",
    "\n",
    "# Veri setini yükleme\n",
    "data_path = 'pima-indians-diabetes.csv'\n",
    "data = pd.read_csv(data_path)\n",
    "\n",
    "# Veri setinin ilk beş satırını gösterme\n",
    "data.head(), data.describe()"
   ]
  },
  {
   "cell_type": "code",
   "execution_count": null,
   "id": "c6b060e9",
   "metadata": {},
   "outputs": [],
   "source": [
    "# Z-Skoru normalizasyonu için scaler nesnesi oluşturma\n",
    "scaler = StandardScaler()\n",
    "\n",
    "# 'Outcome' sütunu hariç tüm sütunları normalizasyon için seçme\n",
    "features = data.columns[:-1]\n",
    "data_scaled = data.copy()\n",
    "\n",
    "# Veri setini normalizasyon uygulama\n",
    "data_scaled[features] = scaler.fit_transform(data[features])\n",
    "\n",
    "# Normalizasyon sonrası ilk beş satırı ve istatistiksel özetini gösterme\n",
    "data_scaled.head(), data_scaled.describe()"
   ]
  },
  {
   "cell_type": "markdown",
   "id": "254b62b7",
   "metadata": {},
   "source": [
    "İlk olarak PCA'yı uygulayıp, ilk iki ana bileşeni bulacağım ve bu bileşenlere en çok katkıda bulunan özellikleri raporlayacağım.Ardından LDA'yı uygulayıp en ayırt edici özellikleri belirleyelim."
   ]
  },
  {
   "cell_type": "code",
   "execution_count": 6,
   "id": "bd3a0bab",
   "metadata": {},
   "outputs": [
    {
     "ename": "NameError",
     "evalue": "name 'df_normalized' is not defined",
     "output_type": "error",
     "traceback": [
      "\u001b[1;31m---------------------------------------------------------------------------\u001b[0m",
      "\u001b[1;31mNameError\u001b[0m                                 Traceback (most recent call last)",
      "Cell \u001b[1;32mIn[6], line 2\u001b[0m\n\u001b[0;32m      1\u001b[0m \u001b[38;5;66;03m# Hedef değişkeni ve özellikleri ayır\u001b[39;00m\n\u001b[1;32m----> 2\u001b[0m X \u001b[38;5;241m=\u001b[39m df_normalized\u001b[38;5;241m.\u001b[39miloc[:, :\u001b[38;5;241m-\u001b[39m\u001b[38;5;241m1\u001b[39m]  \u001b[38;5;66;03m# Son sütun hariç tüm sütunlar\u001b[39;00m\n\u001b[0;32m      3\u001b[0m y \u001b[38;5;241m=\u001b[39m df[\u001b[38;5;124m'\u001b[39m\u001b[38;5;124mOutcome\u001b[39m\u001b[38;5;124m'\u001b[39m]  \u001b[38;5;66;03m# Orijinal veri setinden hedef değişken\u001b[39;00m\n\u001b[0;32m      5\u001b[0m \u001b[38;5;66;03m# PCA uygula, n_components=2\u001b[39;00m\n",
      "\u001b[1;31mNameError\u001b[0m: name 'df_normalized' is not defined"
     ]
    }
   ],
   "source": [
    "# Hedef değişkeni ve özellikleri ayır\n",
    "X = df_normalized.iloc[:, :-1]  # Son sütun hariç tüm sütunlar\n",
    "y = df['Outcome']  # Orijinal veri setinden hedef değişken\n",
    "\n",
    "# PCA uygula, n_components=2\n",
    "pca = PCA(n_components=2)\n",
    "X_pca = pca.fit_transform(X)\n",
    "\n",
    "# LDA uygula, n_components=1\n",
    "lda = LDA(n_components=1)\n",
    "X_lda = lda.fit_transform(X, y)\n",
    "\n",
    "# PCA ve LDA sonuçlarını DataFrame'e dönüştür\n",
    "df_pca = pd.DataFrame(X_pca, columns=['PC1', 'PC2'])\n",
    "df_lda = pd.DataFrame(X_lda, columns=['LD1'])\n",
    "\n",
    "# Sonuçları yazdır\n",
    "print(df_pca.head())\n",
    "print(df_lda.head())"
   ]
  },
  {
   "cell_type": "code",
   "execution_count": null,
   "id": "11d4462f",
   "metadata": {},
   "outputs": [],
   "source": []
  }
 ],
 "metadata": {
  "kernelspec": {
   "display_name": "Python 3 (ipykernel)",
   "language": "python",
   "name": "python3"
  },
  "language_info": {
   "codemirror_mode": {
    "name": "ipython",
    "version": 3
   },
   "file_extension": ".py",
   "mimetype": "text/x-python",
   "name": "python",
   "nbconvert_exporter": "python",
   "pygments_lexer": "ipython3",
   "version": "3.11.5"
  }
 },
 "nbformat": 4,
 "nbformat_minor": 5
}
